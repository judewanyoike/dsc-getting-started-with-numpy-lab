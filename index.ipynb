{
 "cells": [
  {
   "cell_type": "markdown",
   "metadata": {},
   "source": [
    "# Getting Started with NumPy - Lab"
   ]
  },
  {
   "cell_type": "markdown",
   "metadata": {},
   "source": [
    "## Introduction"
   ]
  },
  {
   "cell_type": "markdown",
   "metadata": {},
   "source": [
    "Now that we have introduced NumPy, let's put it to practice. In this lab, you are going to be creating arrays, performing operations on them, and returning new arrays all using the NumPy library. Let's get started!"
   ]
  },
  {
   "cell_type": "markdown",
   "metadata": {},
   "source": [
    "## Objectives\n",
    "\n",
    "You will be able to: \n",
    "\n",
    "- Instantiate a numpy array with specified values \n",
    "- Use broadcasting to perform a math operation on an entire numpy array \n"
   ]
  },
  {
   "cell_type": "markdown",
   "metadata": {},
   "source": [
    "## Import `NumPy` under the standard alias"
   ]
  },
  {
   "cell_type": "code",
   "execution_count": 3,
   "metadata": {},
   "outputs": [],
   "source": [
    "# Import numpy using the standard alias\n",
    "import numpy as np"
   ]
  },
  {
   "cell_type": "markdown",
   "metadata": {},
   "source": [
    "## Generate some mock data"
   ]
  },
  {
   "cell_type": "markdown",
   "metadata": {},
   "source": [
    "Create a NumPy array for each of the following:\n",
    "    1. Using a range\n",
    "    2. Using a Python list\n",
    "    \n",
    "Below, create a list in Python that has 5 elements (i.e. [0,1,2,3,4]) and assign it to the variable `py_list`. \n",
    "\n",
    "Next, do the same, but instead of a list, create a range with 5 elements and assign it to the variable, `py_range`.\n",
    "\n",
    "Finally, use the list and range to create NumPy arrays and assign the array from list to the variable `array_from_list`, and the array from the range to the variable `array_from_range`."
   ]
  },
  {
   "cell_type": "code",
   "execution_count": 5,
   "metadata": {},
   "outputs": [],
   "source": [
    "# Your code here\n",
    "py_list = [0,1,2,3,4,5]\n",
    "py_range = range(5)\n",
    "array_from_list = np.array(py_list)\n",
    "array_from_range = np.array(py_range)"
   ]
  },
  {
   "cell_type": "markdown",
   "metadata": {},
   "source": [
    "Next, we have a list of heights and weights and we'd like to use them to create a collection of BMIs. However, they are both in inches and pounds (imperial system), respectively. \n",
    "\n",
    "Let's use what we know to create NumPy arrays with the metric equivalent values (height in meters & weight in kg).\n",
    "\n",
    "> **Remember:** *NumPy can make these calculations a lot easier and with less code than a list!*"
   ]
  },
  {
   "cell_type": "markdown",
   "metadata": {},
   "source": [
    "> 1.0 inch = 0.0254 meters\n",
    "\n",
    "> 2.2046 lbs = 1 kilogram"
   ]
  },
  {
   "cell_type": "code",
   "execution_count": 8,
   "metadata": {},
   "outputs": [
    {
     "data": {
      "text/plain": [
       "array([1.651 , 1.7272, 1.8542, 1.905 , 1.9812])"
      ]
     },
     "execution_count": 8,
     "metadata": {},
     "output_type": "execute_result"
    }
   ],
   "source": [
    "# Use the conversion rate for turning height in inches to meters\n",
    "list_height_inches = [65, 68, 73, 75, 78]\n",
    "\n",
    "# Your code here\n",
    "array_height_inches = np.array(list_height_inches)\n",
    "array_height_meters = array_height_inches * 0.0254\n",
    "array_height_meters"
   ]
  },
  {
   "cell_type": "code",
   "execution_count": 9,
   "metadata": {},
   "outputs": [
    {
     "data": {
      "text/plain": [
       "array([1.651 , 1.7272, 1.8542, 1.905 , 1.9812])"
      ]
     },
     "execution_count": 9,
     "metadata": {},
     "output_type": "execute_result"
    }
   ],
   "source": [
    "#ALTERNATIVELY\n",
    "# Use the conversion rate for turning height in inches to meters\n",
    "list_height_inches = [65, 68, 73, 75, 78]\n",
    "\n",
    "# Your code here\n",
    "array_height_inches = np.multiply(array_height_inches, 0.0254)\n",
    "array_height_meters"
   ]
  },
  {
   "cell_type": "code",
   "execution_count": 11,
   "metadata": {},
   "outputs": [
    {
     "data": {
      "text/plain": [
       "array([ 68.03955366,  63.50358342,  99.79134537,  92.98739   ,\n",
       "       120.20321147])"
      ]
     },
     "execution_count": 11,
     "metadata": {},
     "output_type": "execute_result"
    }
   ],
   "source": [
    "# Use the conversion rate for turning weight in pounds to kilograms\n",
    "list_weight_pounds = [150, 140, 220, 205, 265]\n",
    "\n",
    "# Your code here\n",
    "array_weight_pounds = np.array(list_weight_pounds)\n",
    "array_weight_kg = array_weight_pounds/2.2046\n",
    "array_weight_kg"
   ]
  },
  {
   "cell_type": "code",
   "execution_count": 12,
   "metadata": {},
   "outputs": [
    {
     "data": {
      "text/plain": [
       "array([ 68.03955366,  63.50358342,  99.79134537,  92.98739   ,\n",
       "       120.20321147])"
      ]
     },
     "execution_count": 12,
     "metadata": {},
     "output_type": "execute_result"
    }
   ],
   "source": [
    "#ALTERNATIVELY\n",
    "# Use the conversion rate for turning weight in pounds to kilograms\n",
    "list_weight_pounds = [150, 140, 220, 205, 265]\n",
    "\n",
    "# Your code here\n",
    "array_weight_pounds = np.divide(array_weight_pounds, 2.2046)\n",
    "array_weight_kg\n"
   ]
  },
  {
   "cell_type": "markdown",
   "metadata": {},
   "source": [
    "# FORMULAS\n"
   ]
  },
  {
   "cell_type": "code",
   "execution_count": 6,
   "metadata": {},
   "outputs": [
    {
     "ename": "NameError",
     "evalue": "name 'inches_data' is not defined",
     "output_type": "error",
     "traceback": [
      "\u001b[1;31m---------------------------------------------------------------------------\u001b[0m",
      "\u001b[1;31mNameError\u001b[0m                                 Traceback (most recent call last)",
      "Cell \u001b[1;32mIn[6], line 2\u001b[0m\n\u001b[0;32m      1\u001b[0m \u001b[38;5;66;03m# FORMULA for inches to meters\u001b[39;00m\n\u001b[1;32m----> 2\u001b[0m inches\u001b[38;5;241m=\u001b[39mnp\u001b[38;5;241m.\u001b[39marray(inches_data)\n\u001b[0;32m      3\u001b[0m height\u001b[38;5;241m=\u001b[39m inches_data\u001b[38;5;241m*\u001b[39m\u001b[38;5;241m0.0254\u001b[39m\n\u001b[0;32m      4\u001b[0m \u001b[38;5;66;03m#Alternatively\u001b[39;00m\n",
      "\u001b[1;31mNameError\u001b[0m: name 'inches_data' is not defined"
     ]
    }
   ],
   "source": [
    "# FORMULA :-for inches to meters\n",
    "inches=np.array(inches_data)\n",
    "height= inches*0.0254\n",
    "#Alternatively\n",
    "height=np.multiply(inches_data,0.0254)\n"
   ]
  },
  {
   "cell_type": "code",
   "execution_count": null,
   "metadata": {},
   "outputs": [],
   "source": [
    "# FORMULA :-for inches to meters\n",
    "pounds=np.array(pounds_data)\n",
    "kg= pounds/2.2046\n",
    "#Alternatively\n",
    "pounds=np.divide(pound, 2.2046)"
   ]
  },
  {
   "cell_type": "code",
   "execution_count": null,
   "metadata": {},
   "outputs": [],
   "source": []
  },
  {
   "cell_type": "markdown",
   "metadata": {},
   "source": [
    "The metric formula for calculating BMI is as follows:\n",
    "\n",
    "> BMI = weight (kg) ÷ height^2 (m^2)\n",
    "\n",
    "So, to get BMI we divide weight by the squared value of height. For example, if I weighed 130kg and was 1.9 meters tall, the calculation would look like:\n",
    "\n",
    "> BMI = 130 / (1.9*1.9)\n",
    "\n",
    "Use the BMI calculation to create a NumPy array of BMIs"
   ]
  },
  {
   "cell_type": "code",
   "execution_count": 14,
   "metadata": {},
   "outputs": [
    {
     "data": {
      "text/plain": [
       "array([29.73452725, 24.7092773 , 31.75974108, 27.24106742, 31.01999223])"
      ]
     },
     "execution_count": 14,
     "metadata": {},
     "output_type": "execute_result"
    }
   ],
   "source": [
    "# Your code here\n",
    "\n",
    "BMI_array=array_weight_kg/np.power(array_height_meters, array_height_meters)\n",
    "BMI_array "
   ]
  },
  {
   "cell_type": "markdown",
   "metadata": {},
   "source": [
    "## Create a vector of ones the same size as your BMI vector using `np.ones()`"
   ]
  },
  {
   "cell_type": "code",
   "execution_count": 15,
   "metadata": {},
   "outputs": [
    {
     "data": {
      "text/plain": [
       "array([1., 1., 1., 1., 1.])"
      ]
     },
     "execution_count": 15,
     "metadata": {},
     "output_type": "execute_result"
    }
   ],
   "source": [
    "# Your code here\n",
    "identity = np.ones(BMI_array.shape)\n",
    "identity"
   ]
  },
  {
   "cell_type": "markdown",
   "metadata": {},
   "source": [
    "## Multiply the BMI_array by your vector of ones\n",
    "The resulting product should have the same values as your original BMI numpy array."
   ]
  },
  {
   "cell_type": "code",
   "execution_count": 16,
   "metadata": {},
   "outputs": [
    {
     "data": {
      "text/plain": [
       "array([29.73452725, 24.7092773 , 31.75974108, 27.24106742, 31.01999223])"
      ]
     },
     "execution_count": 16,
     "metadata": {},
     "output_type": "execute_result"
    }
   ],
   "source": [
    "# Your code here\n",
    "result = BMI_array * identity\n",
    "result"
   ]
  },
  {
   "cell_type": "markdown",
   "metadata": {},
   "source": [
    "## Level Up: Using NumPy to Parse a File\n",
    "The Pandas library that we've been using is built on top of NumPy; all columns/series in a Pandas DataFrame are built using NumPy arrays. To get a better idea of a how a built-in method like `pd.read_csv()` works, we'll try and recreate that here!"
   ]
  },
  {
   "cell_type": "code",
   "execution_count": null,
   "metadata": {},
   "outputs": [],
   "source": [
    "# Open a text file (csv files are just plaintext separated by commas)\n",
    "f = open('bp.txt')\n",
    "n_rows = len(f.readlines())\n",
    "# Print number of lines in the file\n",
    "print('The file has {} lines.'.format(n_rows)) \n",
    "# After using readlines, we must reopen the file\n",
    "f = open('bp.txt') \n",
    "# The file has values separated by tabs; we read the first line and check it's length \n",
    "n_cols = (len(f.readline().split('\\t'))) \n",
    "\n",
    "f = open('bp.txt')\n",
    "\n",
    "# Your code here\n",
    "# Pseudocode outline below\n",
    "#1) Create a matrix of zeros that is the same size of the file\n",
    "#2) Iterate through the file: \"for line in f:\" Hint: using enumerate will also be required\n",
    "    #3) Update each row of the matrix with the new stream of data\n",
    "    #Hint: skip the first row (it's just column names, not the data.)\n",
    "#4) Preview your results; you should now have a NumPy matrix with the data from the file\n",
    "\n",
    "\n",
    "\n",
    "\n",
    "f = open('bp.txt')\n",
    "\n",
    "# Step 1: Count number of rows (data lines)\n",
    "n_rows = len(f.readlines())\n",
    "print(f'The file has {n_rows} lines.')\n",
    "\n",
    "# Re-open the file for parsing\n",
    "f = open('bp.txt')\n",
    "\n",
    "# Step 2: Get the number of columns by checking the first line\n",
    "n_cols = len(f.readline().split('\\t'))\n",
    "print(f'The file has {n_cols} columns.')\n",
    "\n",
    "# Step 3: Create a NumPy matrix of zeros with the correct shape\n",
    "data_matrix = np.zeros((n_rows - 1, n_cols))  # Exclude the header row\n",
    "\n",
    "# Re-open the file again to iterate through the data\n",
    "f = open('bp.txt')\n",
    "\n",
    "# Skip the first line (header row)\n",
    "next(f)\n",
    "\n",
    "# Step 4: Iterate through the file and fill the NumPy matrix\n",
    "for idx, line in enumerate(f):\n",
    "    # Split the line by tab\n",
    "    data = line.strip().split('\\t')\n",
    "    # Convert each element to a float and store it in the matrix\n",
    "    data_matrix[idx] = np.array(data, dtype=float)\n",
    "\n",
    "# Preview the resulting matrix\n",
    "print(data_matrix)\n"
   ]
  },
  {
   "cell_type": "markdown",
   "metadata": {},
   "source": [
    "## Summary"
   ]
  },
  {
   "cell_type": "markdown",
   "metadata": {},
   "source": [
    "In this lab, we practiced creating NumPy arrays from both lists and ranges. We then practiced performing math operations like converting imperial measurements to metric measurements on each element of a NumPy array to create new arrays with new values. Finally, we used both of our new NumPy arrays to operate on each other and create new arrays containing the BMIs from our arrays containing heights and weights."
   ]
  }
 ],
 "metadata": {
  "kernelspec": {
   "display_name": "Python 3 (ipykernel)",
   "language": "python",
   "name": "python3"
  },
  "language_info": {
   "codemirror_mode": {
    "name": "ipython",
    "version": 3
   },
   "file_extension": ".py",
   "mimetype": "text/x-python",
   "name": "python",
   "nbconvert_exporter": "python",
   "pygments_lexer": "ipython3",
   "version": "3.12.7"
  }
 },
 "nbformat": 4,
 "nbformat_minor": 4
}
